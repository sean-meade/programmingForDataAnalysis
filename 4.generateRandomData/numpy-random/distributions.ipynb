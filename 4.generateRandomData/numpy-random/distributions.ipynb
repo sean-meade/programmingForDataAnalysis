{
 "cells": [
  {
   "cell_type": "markdown",
   "metadata": {},
   "source": [
    "# Distributions\n",
    "\n",
    "https://mathworld.wolfram.com/UniformDistribution.html\n",
    "\n",
    "https://docs.scipy.org/doc/numpy-1.13.0/reference/generated/numpy.random.uniform.html#numpy.random.uniform"
   ]
  },
  {
   "cell_type": "markdown",
   "metadata": {},
   "source": [
    "## Uniform Distribution\n",
    "\n",
    "Another form of the rand function."
   ]
  },
  {
   "cell_type": "code",
   "execution_count": 2,
   "metadata": {},
   "outputs": [],
   "source": [
    "import numpy as np"
   ]
  },
  {
   "cell_type": "code",
   "execution_count": 5,
   "metadata": {
    "scrolled": true
   },
   "outputs": [
    {
     "data": {
      "text/plain": [
       "array([-6.79817034e-01, -8.64458132e-01, -9.18695416e-02, -1.40530796e-02,\n",
       "       -3.56715211e-01, -5.27477576e-01, -7.41081573e-01, -1.23580664e-01,\n",
       "       -9.83728910e-01, -6.51141737e-01, -5.53492800e-01, -9.98367907e-01,\n",
       "       -4.39132353e-01, -7.39358172e-01, -5.11562125e-01, -6.13154368e-01,\n",
       "       -3.09813838e-01, -2.15614613e-01, -9.19547912e-01, -6.72221598e-01,\n",
       "       -5.46151006e-02, -7.64518068e-01, -9.88434747e-01, -6.06604430e-01,\n",
       "       -6.32453348e-01, -8.97037363e-01, -1.74806169e-01, -5.65653167e-01,\n",
       "       -9.40436947e-01, -1.87787688e-01, -2.59630821e-01, -9.54475290e-01,\n",
       "       -1.69497339e-01, -6.19216850e-02, -9.83868302e-01, -6.58415937e-01,\n",
       "       -5.37065947e-02, -9.08646165e-01, -5.76772312e-01, -2.66303466e-01,\n",
       "       -1.35069756e-02, -6.19199168e-01, -1.29988194e-02, -5.06206497e-01,\n",
       "       -2.90998705e-02, -4.04624626e-01, -1.67080424e-01, -8.44834914e-01,\n",
       "       -2.99905783e-01, -2.54488867e-01, -6.11026985e-01, -3.26992458e-01,\n",
       "       -7.65496802e-02, -1.28539766e-02, -5.65172730e-01, -9.47215668e-03,\n",
       "       -9.83581501e-01, -9.75866865e-01, -9.01779248e-01, -4.02349065e-01,\n",
       "       -2.43008781e-01, -8.73021813e-01, -5.25940579e-01, -6.90408091e-01,\n",
       "       -7.57506028e-01, -4.88689731e-01, -2.55549260e-01, -5.10216403e-01,\n",
       "       -2.48308474e-01, -5.17803449e-01, -6.12899892e-01, -7.90928409e-04,\n",
       "       -5.11229438e-01, -5.31112196e-01, -7.41152631e-01, -4.08050148e-01,\n",
       "       -1.86368329e-01, -9.00209753e-01, -2.94669394e-01, -5.10742061e-01,\n",
       "       -6.35368465e-01, -3.70292989e-01, -7.75181750e-01, -3.24870381e-01,\n",
       "       -3.75065718e-01, -6.61432732e-01, -9.58452311e-01, -7.40935201e-01,\n",
       "       -3.69726530e-01, -6.82686773e-01, -4.30947848e-01, -8.63662169e-02,\n",
       "       -6.98743439e-01, -6.30387857e-01, -3.18537354e-01, -9.59208090e-01,\n",
       "       -4.39864042e-01, -5.85676522e-01, -2.17139288e-01, -7.96047051e-02,\n",
       "       -6.50830437e-01, -4.14313567e-01, -8.41589780e-01, -6.42387797e-01,\n",
       "       -7.10185705e-01, -6.69439210e-01, -5.41384190e-01, -7.51880816e-01,\n",
       "       -4.49022423e-01, -4.14672923e-01, -5.75353628e-01, -3.83233589e-01,\n",
       "       -8.39480567e-01, -4.82045573e-01, -5.04229711e-01, -4.52767796e-01,\n",
       "       -7.78072076e-01, -8.34131448e-01, -4.42862530e-01, -9.01311623e-02,\n",
       "       -8.96777972e-01, -9.19012155e-01, -8.16572362e-01, -5.08212249e-01,\n",
       "       -5.85785257e-01, -5.77649167e-01, -2.70642858e-01, -4.22997306e-01,\n",
       "       -7.91959867e-01, -7.03507718e-01, -7.62018842e-02, -8.11752823e-01,\n",
       "       -3.96827154e-01, -9.84507836e-01, -4.83902263e-01, -6.15292730e-01,\n",
       "       -1.53416206e-01, -8.98175533e-01, -4.59323558e-01, -3.79254805e-01,\n",
       "       -5.56089571e-02, -1.89702210e-01, -2.46795877e-01, -6.01867344e-01,\n",
       "       -1.99983241e-01, -6.52950033e-01, -7.63801701e-01, -8.07705861e-01,\n",
       "       -3.30108610e-01, -3.09416023e-01, -7.07816067e-01, -8.22742095e-01,\n",
       "       -8.00171012e-01, -3.09593704e-01, -2.49844714e-02, -2.26043625e-01,\n",
       "       -5.79581046e-01, -3.67081289e-01, -3.10861062e-01, -8.89071914e-02,\n",
       "       -4.81954666e-01, -2.57718995e-01, -9.10560746e-01, -8.21110231e-01,\n",
       "       -8.00641329e-01, -1.07365614e-01, -3.86805869e-01, -1.64641172e-01,\n",
       "       -7.37396115e-01, -3.62916641e-01, -1.52166384e-01, -9.84956720e-01,\n",
       "       -9.28567254e-01, -5.34513798e-01, -8.54166346e-01, -3.27992757e-01,\n",
       "       -1.93382003e-01, -6.05198431e-01, -3.96318746e-01, -8.86375778e-01,\n",
       "       -2.55730383e-01, -9.00497213e-01, -5.16564933e-01, -9.87977246e-01,\n",
       "       -2.77996031e-01, -6.39612970e-01, -7.47312622e-01, -4.98235364e-01,\n",
       "       -6.92181546e-01, -3.00699506e-01, -2.29958647e-01, -2.62716461e-01,\n",
       "       -2.08908364e-01, -3.58952095e-01, -9.05598349e-01, -8.08348218e-01,\n",
       "       -8.23582136e-01, -6.18297096e-01, -7.94264656e-01, -2.21401674e-01,\n",
       "       -6.23544784e-01, -6.08381784e-01, -2.92404155e-01, -1.02887310e-01,\n",
       "       -8.86418997e-01, -9.60073611e-01, -7.06585743e-01, -9.77503945e-01,\n",
       "       -1.98741749e-01, -6.16518914e-01, -1.59281173e-01, -9.44897377e-01,\n",
       "       -1.08010080e-01, -4.66572676e-01, -9.89090673e-01, -2.65752150e-01,\n",
       "       -4.22120423e-01, -2.07457150e-01, -9.71693550e-01, -4.71220457e-01,\n",
       "       -9.76418557e-01, -4.37246002e-01, -4.95761300e-02, -1.51712580e-01,\n",
       "       -4.76344585e-01, -8.15999411e-01, -6.07545490e-01, -5.59914240e-01,\n",
       "       -2.87004792e-01, -2.52947128e-01, -8.85842547e-01, -8.96367755e-01,\n",
       "       -2.19824425e-01, -3.33419052e-01, -3.05266559e-01, -7.08720495e-01,\n",
       "       -3.70800202e-01, -1.67831916e-01, -6.57491899e-01, -3.26259767e-02,\n",
       "       -3.80775575e-01, -5.31836792e-01, -1.86378659e-01, -1.93998124e-02,\n",
       "       -6.35357737e-02, -8.93232872e-01, -6.24337420e-01, -2.04850404e-01,\n",
       "       -4.15520860e-01, -6.29331862e-01, -7.33458314e-01, -1.37332494e-01,\n",
       "       -9.02952938e-01, -8.77788509e-01, -8.37352956e-01, -3.65416031e-01,\n",
       "       -4.93433949e-01, -6.66664285e-01, -2.98793037e-01, -7.82708778e-01,\n",
       "       -4.04118657e-02, -7.06429835e-02, -8.82167312e-01, -9.11898783e-01,\n",
       "       -8.26419281e-01, -4.96540338e-01, -5.38558199e-01, -4.57904315e-01,\n",
       "       -8.92774531e-02, -8.38664411e-01, -1.27953819e-01, -5.25788497e-01,\n",
       "       -9.42599175e-01, -2.74560370e-01, -9.45193895e-01, -2.97803537e-02,\n",
       "       -6.19264002e-01, -6.32782958e-01, -8.76619030e-01, -8.32898657e-01,\n",
       "       -5.27506868e-01, -7.23960834e-01, -2.95247145e-02, -1.38703225e-01,\n",
       "       -2.29220280e-01, -7.01099483e-01, -8.57818209e-01, -8.80301797e-01,\n",
       "       -6.98624049e-01, -4.73263437e-01, -5.50962852e-01, -7.93634567e-01,\n",
       "       -4.42367135e-01, -4.29274288e-01, -8.36752292e-01, -9.25563507e-02,\n",
       "       -9.62876367e-01, -9.89171145e-01, -5.40185789e-01, -8.15794067e-01,\n",
       "       -6.60215159e-01, -6.71069122e-01, -2.85898034e-01, -4.91990300e-01,\n",
       "       -6.73334795e-01, -4.89712063e-01, -7.32721226e-01, -6.76676186e-01,\n",
       "       -9.48620320e-01, -6.08520606e-01, -9.64809147e-01, -5.79731758e-01,\n",
       "       -2.49598803e-01, -3.17820355e-02, -7.71827316e-03, -1.79580963e-01,\n",
       "       -2.15306805e-03, -1.11175376e-01, -5.39330038e-01, -8.32027539e-01,\n",
       "       -1.26654118e-01, -5.90877521e-01, -2.62400271e-01, -1.46322305e-01,\n",
       "       -6.52879867e-01, -3.02269844e-01, -4.74372089e-02, -8.65537869e-02,\n",
       "       -9.73674387e-01, -6.95166247e-01, -3.67770358e-01, -5.50825925e-01,\n",
       "       -4.10523435e-01, -6.27186717e-01, -7.53252937e-02, -1.12189953e-01,\n",
       "       -6.74718522e-02, -6.77422393e-01, -7.04907735e-01, -7.51076705e-01,\n",
       "       -4.66374517e-01, -1.46499478e-01, -3.22000940e-01, -5.31075352e-01,\n",
       "       -7.17466063e-01, -3.08167194e-01, -6.16295499e-01, -8.72467303e-03,\n",
       "       -1.50608600e-01, -7.75451987e-02, -5.65374214e-01, -4.95637815e-01,\n",
       "       -8.59620561e-01, -4.06758122e-01, -2.21370350e-01, -3.85744289e-01,\n",
       "       -7.30685633e-01, -6.96412352e-01, -5.65401229e-01, -3.47588079e-01,\n",
       "       -5.74667955e-01, -7.74453541e-01, -5.52179054e-01, -6.85849442e-01,\n",
       "       -6.79025719e-01, -5.16786224e-02, -5.99165417e-01, -1.53988087e-01,\n",
       "       -6.26566300e-01, -9.16940756e-01, -9.11579808e-01, -3.17636304e-01,\n",
       "       -9.66227536e-01, -1.37717890e-01, -1.54241980e-01, -3.71484996e-01,\n",
       "       -4.89475237e-01, -2.79044038e-01, -8.19190889e-02, -7.11595219e-01,\n",
       "       -3.52133935e-01, -2.36921671e-01, -8.71809848e-01, -4.32108985e-01,\n",
       "       -8.96636639e-01, -8.29585433e-01, -7.63717874e-01, -3.02020950e-01,\n",
       "       -4.37813293e-01, -1.22049003e-01, -6.19729706e-01, -6.39365291e-01,\n",
       "       -1.89976858e-01, -7.79584541e-01, -6.38561147e-01, -3.53855290e-01,\n",
       "       -7.85985273e-01, -5.19106459e-01, -9.98552920e-01, -1.08742007e-01,\n",
       "       -6.99642364e-01, -8.04010538e-01, -4.92260103e-01, -9.90819055e-01,\n",
       "       -3.48914038e-01, -2.15443037e-01, -5.18217053e-01, -2.14137023e-01,\n",
       "       -7.49769918e-01, -4.70830377e-02, -7.43482764e-01, -1.32993889e-01,\n",
       "       -9.90728437e-01, -1.37627526e-01, -8.42537875e-01, -9.73903645e-01,\n",
       "       -1.26525942e-01, -8.57007195e-01, -1.99442145e-01, -2.86601773e-01,\n",
       "       -9.32158147e-01, -3.24980424e-01, -9.99775050e-02, -1.31090750e-01,\n",
       "       -2.61722593e-01, -9.94577063e-01, -7.98656364e-01, -7.46410255e-01,\n",
       "       -5.70390422e-01, -7.57133427e-01, -5.90835592e-01, -6.86033147e-01,\n",
       "       -7.85146059e-01, -2.52171199e-01, -6.75652140e-01, -5.56710063e-02,\n",
       "       -4.61277722e-01, -5.33746821e-01, -4.99692063e-03, -2.47515703e-01,\n",
       "       -9.09899740e-01, -8.08977827e-01, -5.85751928e-01, -7.49370189e-01,\n",
       "       -1.23698946e-01, -2.51943713e-01, -3.60924229e-02, -6.00917826e-01,\n",
       "       -3.48610736e-01, -7.52456141e-01, -7.53242498e-01, -3.97902758e-01,\n",
       "       -6.64555330e-01, -2.73478457e-01, -6.15293610e-01, -7.87353298e-01,\n",
       "       -9.37411006e-01, -5.56733051e-01, -3.93316695e-01, -7.66674756e-01,\n",
       "       -4.40976826e-01, -8.79149319e-01, -2.87782338e-01, -1.10802581e-01,\n",
       "       -3.14904252e-01, -3.57252941e-01, -9.77647337e-01, -8.03266031e-01,\n",
       "       -6.36224490e-03, -2.54825002e-01, -7.48682270e-01, -7.11695818e-01,\n",
       "       -2.54661209e-01, -3.81200032e-01, -7.02751887e-01, -2.42311188e-01,\n",
       "       -6.53801801e-02, -2.70417741e-01, -1.30502986e-01, -3.79369710e-01,\n",
       "       -6.57276559e-01, -1.58957785e-03, -8.63048300e-01, -3.10772384e-02,\n",
       "       -2.22077960e-01, -8.34088360e-01, -6.07806521e-01, -4.64310751e-01,\n",
       "       -4.38789037e-01, -8.14378799e-01, -1.95675212e-02, -5.51639355e-02,\n",
       "       -7.47788575e-01, -3.52428837e-01, -5.02545999e-01, -3.04894100e-01,\n",
       "       -1.35479446e-01, -2.95639007e-01, -1.77714888e-01, -8.13924230e-01,\n",
       "       -9.91279012e-01, -3.17768967e-01, -9.15778366e-01, -9.03378203e-01,\n",
       "       -8.24866496e-01, -4.05408371e-01, -6.45655791e-01, -7.78586704e-01,\n",
       "       -2.63424068e-01, -7.89436141e-01, -4.64308562e-01, -8.25521816e-01,\n",
       "       -8.31814488e-01, -5.38101440e-01, -4.55530219e-01, -3.48148751e-01,\n",
       "       -3.98808795e-01, -1.09476625e-01, -2.29277720e-02, -5.54007011e-01,\n",
       "       -3.35133607e-01, -1.45670132e-01, -9.05526151e-01, -9.51430098e-01,\n",
       "       -7.26418890e-01, -5.33183684e-01, -9.10685108e-01, -7.89486133e-01,\n",
       "       -6.72025692e-01, -6.15183429e-01, -1.02833447e-01, -2.50600316e-01,\n",
       "       -8.07020893e-01, -5.34921707e-02, -8.01490760e-01, -1.39168445e-01,\n",
       "       -8.43845683e-02, -8.41816534e-01, -2.57195997e-01, -5.82079573e-01,\n",
       "       -8.00437688e-01, -3.40375955e-01, -8.21503379e-01, -1.27146121e-01,\n",
       "       -9.32172531e-01, -8.05506305e-01, -7.29126306e-01, -2.38693429e-01,\n",
       "       -2.35081474e-01, -2.00271167e-01, -5.68614782e-01, -9.09925087e-01,\n",
       "       -6.64438061e-01, -6.26973610e-01, -6.68421663e-01, -2.18505295e-01,\n",
       "       -5.07686536e-01, -2.09734346e-02, -3.45365374e-01, -4.55579397e-02,\n",
       "       -2.10013386e-01, -9.89493735e-01, -2.82221389e-01, -1.41738816e-02,\n",
       "       -5.55535888e-01, -6.55842256e-01, -8.63538809e-01, -4.83852718e-01,\n",
       "       -7.63549960e-01, -2.26208559e-01, -5.56489372e-01, -4.44881195e-01,\n",
       "       -9.83911991e-01, -9.04205767e-01, -5.90512722e-02, -8.42079583e-01,\n",
       "       -5.00997946e-01, -6.67646913e-01, -4.10931862e-01, -4.35978078e-01,\n",
       "       -2.69802152e-01, -6.82706154e-01, -2.99531502e-01, -9.92345675e-01,\n",
       "       -4.31062642e-01, -6.18307357e-01, -6.34312624e-01, -5.04382668e-01,\n",
       "       -9.89262943e-01, -5.79938392e-01, -1.90263534e-01, -7.18268901e-01,\n",
       "       -8.90458261e-01, -7.36086567e-01, -8.46728047e-01, -9.26738261e-02,\n",
       "       -4.65900420e-01, -2.85100381e-01, -9.16949717e-01, -9.13846501e-01,\n",
       "       -3.08726706e-01, -6.56366226e-01, -1.32392313e-01, -6.58403300e-01,\n",
       "       -6.88355465e-01, -5.78140760e-01, -8.13304584e-01, -6.99253749e-02,\n",
       "       -4.93632428e-01, -7.72582299e-01, -1.07349777e-01, -6.01636329e-01,\n",
       "       -7.68263936e-02, -1.63482834e-01, -3.30215314e-01, -1.15253587e-01,\n",
       "       -1.49677331e-01, -1.90402545e-01, -2.89058082e-01, -8.45419793e-01,\n",
       "       -2.40078356e-01, -9.91581142e-01, -4.56653334e-02, -6.09224599e-01,\n",
       "       -5.93219936e-01, -7.40054580e-01, -7.38298431e-01, -1.12261068e-01,\n",
       "       -7.29681063e-01, -2.94976705e-01, -3.88705836e-01, -6.68248261e-01,\n",
       "       -1.37859043e-01, -8.67310076e-01, -9.29431137e-01, -3.34050558e-01,\n",
       "       -1.12895301e-01, -4.63170096e-01, -1.19726651e-01, -9.70142322e-01,\n",
       "       -1.38916584e-01, -6.30240041e-01, -1.79111745e-01, -6.72944682e-01,\n",
       "       -5.77655228e-01, -3.46126982e-01, -9.86419248e-01, -8.08290476e-01,\n",
       "       -9.73676929e-01, -6.13265706e-01, -8.22728161e-01, -2.92865431e-01,\n",
       "       -4.71651361e-01, -1.88315416e-01, -5.52624903e-01, -9.86788033e-01,\n",
       "       -1.30377800e-01, -8.07866718e-01, -3.12334940e-01, -5.13978268e-01,\n",
       "       -6.83437527e-01, -3.46191434e-01, -2.16831695e-01, -8.30220835e-02,\n",
       "       -8.63642688e-01, -5.13153561e-01, -8.15193510e-01, -8.48129708e-01,\n",
       "       -6.45591738e-01, -3.15760314e-01, -3.23591970e-01, -8.53336339e-01,\n",
       "       -5.52081473e-01, -2.30574078e-01, -3.48310689e-01, -4.19937278e-02,\n",
       "       -2.02971407e-01, -3.40934912e-01, -3.97955793e-01, -5.58319791e-01,\n",
       "       -5.11760395e-01, -6.56212368e-01, -9.25839684e-01, -3.21785078e-01,\n",
       "       -2.63195767e-01, -4.31530600e-01, -1.37732353e-01, -4.91769765e-01,\n",
       "       -2.36783860e-01, -8.81518130e-01, -9.37060380e-01, -9.65794851e-01,\n",
       "       -8.70670781e-01, -2.25026367e-01, -4.24635877e-01, -3.90913163e-01,\n",
       "       -2.21660218e-01, -1.17401063e-01, -5.43708811e-02, -6.55746980e-01,\n",
       "       -8.11604494e-01, -1.82152714e-01, -7.22598961e-01, -9.89362794e-01,\n",
       "       -1.09818794e-01, -4.39308729e-01, -2.94910593e-01, -8.20784250e-01,\n",
       "       -7.86506019e-03, -1.20001129e-01, -5.85293859e-01, -6.95251542e-01,\n",
       "       -5.78701897e-01, -9.74421619e-01, -5.43237177e-01, -6.88371475e-01,\n",
       "       -5.77529302e-02, -4.79556364e-01, -7.58520031e-01, -3.14266073e-01,\n",
       "       -5.80450138e-01, -1.44562867e-01, -2.19586611e-01, -8.36917430e-01,\n",
       "       -6.68539990e-01, -2.61011005e-01, -6.82136804e-02, -4.14219884e-01,\n",
       "       -9.42727914e-01, -5.47929054e-01, -8.94836305e-01, -6.72280004e-01,\n",
       "       -2.95661708e-01, -1.86724083e-01, -3.44455878e-01, -6.90700642e-01,\n",
       "       -8.22823518e-01, -3.23446166e-01, -8.30385422e-01, -7.01302907e-01,\n",
       "       -1.59625702e-01, -4.08895235e-01, -6.08805332e-01, -1.94606036e-01,\n",
       "       -9.72242385e-01, -1.53492175e-01, -6.43986580e-01, -5.93537894e-01,\n",
       "       -9.89801071e-01, -7.97832998e-01, -3.96451740e-01, -2.81890321e-01,\n",
       "       -2.95852031e-01, -1.07884397e-01, -5.38626579e-01, -8.16757440e-01,\n",
       "       -2.34318493e-01, -7.11017674e-01, -5.31431439e-01, -4.16366297e-01,\n",
       "       -5.69961834e-01, -6.91380463e-01, -8.53887786e-01, -8.03661216e-01,\n",
       "       -8.09900757e-01, -1.05978354e-01, -8.61460151e-01, -9.99147133e-01,\n",
       "       -7.50621661e-03, -7.70344170e-01, -9.42330374e-01, -3.30748244e-01,\n",
       "       -5.89697570e-01, -6.46270338e-01, -9.83571714e-01, -4.67429001e-01,\n",
       "       -1.81250011e-01, -1.74685970e-01, -7.03309611e-01, -6.30628974e-01,\n",
       "       -9.24502544e-01, -1.31080392e-02, -2.23647522e-01, -5.37712396e-01,\n",
       "       -7.48877320e-01, -2.51295068e-01, -7.39699196e-01, -6.08403739e-01,\n",
       "       -8.37457000e-01, -3.92245977e-01, -5.47841357e-01, -8.10848410e-01,\n",
       "       -3.51589480e-01, -3.63226268e-01, -3.87934675e-01, -6.88267428e-01,\n",
       "       -8.25899232e-02, -5.82809705e-01, -8.73796564e-02, -1.71446132e-01,\n",
       "       -9.11063465e-01, -2.86004324e-01, -1.55123142e-01, -9.87035788e-01,\n",
       "       -1.09104594e-01, -7.90603194e-01, -1.85542895e-01, -2.74098646e-01,\n",
       "       -9.38263467e-01, -5.24698777e-01, -9.00813083e-01, -6.94059375e-01,\n",
       "       -4.60511013e-01, -5.11917684e-01, -6.73256334e-01, -4.50132320e-01,\n",
       "       -2.10603054e-01, -9.55960610e-01, -5.91621056e-01, -9.78003783e-01,\n",
       "       -5.34883927e-01, -5.65462437e-01, -9.19141051e-01, -3.77863450e-01,\n",
       "       -4.75820150e-01, -5.76507303e-01, -2.73307099e-01, -1.28407083e-01,\n",
       "       -9.11368406e-01, -9.71070006e-01, -6.84316272e-01, -8.60043828e-01,\n",
       "       -1.05168595e-01, -4.30180833e-01, -1.31548154e-01, -6.43529349e-01,\n",
       "       -3.22943618e-01, -1.44160941e-01, -7.49964071e-01, -6.62897904e-01,\n",
       "       -5.13805015e-01, -6.30452216e-01, -6.11425448e-01, -3.41267009e-01,\n",
       "       -6.96654886e-01, -6.58809605e-01, -1.06941600e-01, -2.28394588e-01,\n",
       "       -4.93866388e-01, -2.62197158e-01, -3.16716744e-01, -4.41097880e-01,\n",
       "       -3.22662168e-01, -4.67149691e-01, -7.52589161e-01, -5.67792542e-01,\n",
       "       -5.85165554e-01, -7.66567383e-01, -1.79553209e-01, -6.20781408e-01,\n",
       "       -8.28081325e-01, -5.07123071e-01, -6.54619198e-01, -6.93334420e-01,\n",
       "       -7.13952206e-01, -9.19442313e-01, -8.35435121e-01, -2.65671575e-01,\n",
       "       -9.14122147e-01, -8.33975216e-01, -6.32146899e-01, -3.56278764e-01,\n",
       "       -3.71392965e-01, -8.30814234e-01, -6.59388887e-01, -9.88288683e-02,\n",
       "       -1.55355264e-01, -8.58250640e-01, -1.44182483e-03, -5.32657980e-01,\n",
       "       -1.65580227e-01, -4.34687049e-01, -1.04561738e-01, -3.87939731e-01,\n",
       "       -5.34817867e-01, -5.67116818e-01, -3.06256114e-01, -9.76150493e-01,\n",
       "       -2.54279735e-01, -7.68064850e-01, -3.37152478e-01, -7.90750605e-01,\n",
       "       -7.30832786e-01, -9.12645215e-01, -8.01363626e-01, -4.86776112e-01,\n",
       "       -1.03780128e-02, -4.96183101e-01, -1.31267529e-01, -6.64676751e-01,\n",
       "       -7.21309295e-01, -9.53405900e-01, -8.58759424e-01, -3.98672892e-01,\n",
       "       -4.23160400e-01, -6.42971879e-01, -5.75502717e-01, -1.02309260e-01,\n",
       "       -3.48439252e-02, -4.44403316e-01, -1.26491378e-01, -1.48150220e-01,\n",
       "       -1.36449072e-01, -7.24724455e-01, -4.37629733e-02, -8.16022953e-01,\n",
       "       -2.59949435e-01, -5.52502884e-01, -7.31442669e-01, -2.01054608e-01,\n",
       "       -7.26329845e-01, -4.28748960e-01, -8.92106093e-01, -9.24656836e-01,\n",
       "       -5.75137655e-01, -3.42908028e-01, -6.48265336e-01, -4.65192789e-02,\n",
       "       -1.83877830e-02, -6.77584082e-01, -5.51940371e-01, -4.45352123e-01,\n",
       "       -6.71182549e-01, -5.21579282e-01, -8.00084308e-01, -9.03446223e-01,\n",
       "       -9.54304037e-02, -3.72999491e-01, -2.01553790e-01, -4.41823584e-01,\n",
       "       -6.86656877e-01, -6.37993027e-02, -5.01358082e-02, -5.84724250e-01,\n",
       "       -8.69923794e-02, -5.01302716e-01, -9.77655765e-01, -2.77831089e-01,\n",
       "       -6.87892382e-01, -1.70125259e-01, -4.72803871e-01, -1.20304538e-01,\n",
       "       -2.29202320e-03, -3.47912585e-01, -7.51124887e-01, -2.58206775e-01,\n",
       "       -2.93649283e-01, -4.46454790e-01, -4.28784280e-01, -4.83081286e-01,\n",
       "       -2.45208091e-01, -9.93871932e-01, -4.09613417e-01, -5.59457878e-01,\n",
       "       -4.18322106e-02, -6.25851553e-02, -3.03340134e-01, -4.85259691e-01,\n",
       "       -8.39570748e-01, -9.44682997e-02, -6.11695139e-01, -7.36069306e-01,\n",
       "       -3.39045842e-02, -9.24265321e-01, -5.88190259e-02, -7.05183732e-01,\n",
       "       -8.34197945e-01, -6.09012420e-01, -8.80731730e-01, -8.15027578e-01,\n",
       "       -2.64776582e-01, -2.21170830e-01, -7.60887439e-01, -3.95984317e-01,\n",
       "       -9.50932237e-01, -6.27470977e-01, -7.09137726e-01, -1.22507190e-01,\n",
       "       -2.92415522e-01, -4.69559376e-02, -1.03325134e-01, -4.16820821e-01,\n",
       "       -7.92165744e-01, -7.96887246e-01, -3.39533786e-01, -9.56166570e-01,\n",
       "       -4.45127367e-01, -5.44634164e-01, -7.78650059e-01, -6.38531250e-01])"
      ]
     },
     "execution_count": 5,
     "metadata": {},
     "output_type": "execute_result"
    }
   ],
   "source": [
    "np.random.uniform(-1,0,1000)"
   ]
  },
  {
   "cell_type": "code",
   "execution_count": 6,
   "metadata": {},
   "outputs": [
    {
     "data": {
      "text/plain": [
       "array([-0.3050978 , -0.18481652, -0.62481944, -0.04392736, -0.845978  ,\n",
       "       -0.50188103, -0.03146102, -0.88369346, -0.55222691, -0.75987198])"
      ]
     },
     "execution_count": 6,
     "metadata": {},
     "output_type": "execute_result"
    }
   ],
   "source": [
    "np.random.uniform(-1,0,10)"
   ]
  },
  {
   "cell_type": "code",
   "execution_count": 7,
   "metadata": {},
   "outputs": [
    {
     "data": {
      "text/plain": [
       "array([-2.77301853, -2.79424901,  6.39749499,  8.56351813,  2.12183636,\n",
       "        3.56955051,  2.39344982,  2.0381713 ,  9.66594418,  6.98873084])"
      ]
     },
     "execution_count": 7,
     "metadata": {},
     "output_type": "execute_result"
    }
   ],
   "source": [
    "np.random.uniform(-5,10,10)"
   ]
  },
  {
   "cell_type": "code",
   "execution_count": 8,
   "metadata": {},
   "outputs": [
    {
     "data": {
      "text/plain": [
       "array([9.94233937, 9.25507426, 9.62247111, 9.13300342, 9.55254453,\n",
       "       9.56076318, 9.08329397, 9.14437734, 9.5325678 , 9.2829726 ])"
      ]
     },
     "execution_count": 8,
     "metadata": {},
     "output_type": "execute_result"
    }
   ],
   "source": [
    "np.random.uniform(10,9,10)"
   ]
  },
  {
   "cell_type": "code",
   "execution_count": 13,
   "metadata": {},
   "outputs": [],
   "source": [
    "x = np.random.uniform(-1,0,10000)"
   ]
  },
  {
   "cell_type": "code",
   "execution_count": 14,
   "metadata": {},
   "outputs": [],
   "source": [
    "import matplotlib.pyplot as plt"
   ]
  },
  {
   "cell_type": "code",
   "execution_count": 15,
   "metadata": {},
   "outputs": [
    {
     "data": {
      "text/plain": [
       "(array([ 962., 1040.,  987., 1007.,  966., 1021., 1002.,  965., 1050.,\n",
       "        1000.]),\n",
       " array([-9.99866703e-01, -8.99887530e-01, -7.99908357e-01, -6.99929184e-01,\n",
       "        -5.99950011e-01, -4.99970838e-01, -3.99991665e-01, -3.00012492e-01,\n",
       "        -2.00033319e-01, -1.00054147e-01, -7.49735492e-05]),\n",
       " <a list of 10 Patch objects>)"
      ]
     },
     "execution_count": 15,
     "metadata": {},
     "output_type": "execute_result"
    },
    {
     "data": {
      "image/png": "[encoded data removed]",
      "text/plain": [
       "<Figure size 432x288 with 1 Axes>"
      ]
     },
     "metadata": {
      "needs_background": "light"
     },
     "output_type": "display_data"
    }
   ],
   "source": [
    "plt.hist(x)"
   ]
  },
  {
   "cell_type": "markdown",
   "metadata": {},
   "source": [
    "# Normal Distrabution\n",
    "https://docs.scipy.org/doc/numpy-1.13.0/reference/generated/numpy.random.normal.html#numpy.random.normal\n",
    "\n",
    "numpy.random.normal\n",
    "\n",
    "In this example the average or the mu will be centered aroun zero (0), A large percentage will be within 3 time 0.1 on both sides."
   ]
  },
  {
   "cell_type": "code",
   "execution_count": 18,
   "metadata": {},
   "outputs": [],
   "source": [
    "y = np.random.normal(0, 0.1, 1000)"
   ]
  },
  {
   "cell_type": "code",
   "execution_count": 19,
   "metadata": {},
   "outputs": [
    {
     "data": {
      "text/plain": [
       "(array([  5.,  14.,  70., 128., 219., 218., 178., 113.,  36.,  19.]),\n",
       " array([-0.30810689, -0.24957454, -0.1910422 , -0.13250985, -0.07397751,\n",
       "        -0.01544516,  0.04308718,  0.10161953,  0.16015187,  0.21868421,\n",
       "         0.27721656]),\n",
       " <a list of 10 Patch objects>)"
      ]
     },
     "execution_count": 19,
     "metadata": {},
     "output_type": "execute_result"
    },
    {
     "data": {
      "image/png": "[encoded data removed]",
      "text/plain": [
       "<Figure size 432x288 with 1 Axes>"
      ]
     },
     "metadata": {
      "needs_background": "light"
     },
     "output_type": "display_data"
    }
   ],
   "source": [
    "plt.hist(y)"
   ]
  },
  {
   "cell_type": "code",
   "execution_count": 20,
   "metadata": {},
   "outputs": [],
   "source": [
    "z = np.random.normal(100, 100, 1000)"
   ]
  },
  {
   "cell_type": "code",
   "execution_count": 21,
   "metadata": {},
   "outputs": [
    {
     "data": {
      "text/plain": [
       "(array([  6.,  37., 104., 184., 231., 219., 143.,  53.,  18.,   5.]),\n",
       " array([-200.38322967, -137.22078221,  -74.05833475,  -10.89588729,\n",
       "          52.26656017,  115.42900762,  178.59145508,  241.75390254,\n",
       "         304.91635   ,  368.07879745,  431.24124491]),\n",
       " <a list of 10 Patch objects>)"
      ]
     },
     "execution_count": 21,
     "metadata": {},
     "output_type": "execute_result"
    },
    {
     "data": {
      "image/png": "[encoded data removed]",
      "text/plain": [
       "<Figure size 432x288 with 1 Axes>"
      ]
     },
     "metadata": {
      "needs_background": "light"
     },
     "output_type": "display_data"
    }
   ],
   "source": [
    "plt.hist(z)"
   ]
  },
  {
   "cell_type": "code",
   "execution_count": null,
   "metadata": {},
   "outputs": [],
   "source": []
  }
 ],
 "metadata": {
  "kernelspec": {
   "display_name": "Python 3",
   "language": "python",
   "name": "python3"
  },
  "language_info": {
   "codemirror_mode": {
    "name": "ipython",
    "version": 3
   },
   "file_extension": ".py",
   "mimetype": "text/x-python",
   "name": "python",
   "nbconvert_exporter": "python",
   "pygments_lexer": "ipython3",
   "version": "3.7.6"
  }
 },
 "nbformat": 4,
 "nbformat_minor": 4
}
