{
 "cells": [
  {
   "cell_type": "markdown",
   "metadata": {},
   "source": [
    "# The numpy.random package"
   ]
  },
  {
   "cell_type": "markdown",
   "metadata": {},
   "source": [
    "https://docs.scipy.org/doc/numpy-1.13.0/reference/routines.random.html"
   ]
  },
  {
   "cell_type": "markdown",
   "metadata": {},
   "source": [
    "## rand function\n",
    "\n",
    "This function creates random values in a given shape.\n",
    "\n",
    "It creates an array of a given shape and populates that array with a random samples (or numbers) from a uniform distribution (each 'bucket' has roughly the same amount of numbers in it) over $[0, 1)$ (meaning the samples can include 0 and up to but not including 1).\n",
    "\n",
    "The function looks like: numpy.random.rand(d0, d1, ..., dn)\n",
    "\n",
    "Where:\n",
    "\n",
    "- The parameters are d0, d1, ..., dn and are optional. These determine the demensions of the array. They should be positive. If no parameters are given the function returns a single Python float (e.g. 0.92534489).\n",
    "- It returns an array of the given shape with random values."
   ]
  },
  {
   "cell_type": "code",
   "execution_count": 2,
   "metadata": {},
   "outputs": [],
   "source": [
    "import numpy as np"
   ]
  },
  {
   "cell_type": "code",
   "execution_count": 7,
   "metadata": {},
   "outputs": [
    {
     "data": {
      "text/plain": [
       "array([[0.98179972, 0.89041512],\n",
       "       [0.76551288, 0.04598376],\n",
       "       [0.00555322, 0.20910127]])"
      ]
     },
     "execution_count": 7,
     "metadata": {},
     "output_type": "execute_result"
    }
   ],
   "source": [
    "np.random.rand(3,2)"
   ]
  },
  {
   "cell_type": "code",
   "execution_count": 8,
   "metadata": {},
   "outputs": [
    {
     "data": {
      "text/plain": [
       "array([[[0.79428537, 0.94169689, 0.52006552, 0.58741486, 0.32755584],\n",
       "        [0.6517074 , 0.00831143, 0.44542748, 0.54636457, 0.38829995]],\n",
       "\n",
       "       [[0.01766582, 0.11961763, 0.86581145, 0.91530881, 0.38539916],\n",
       "        [0.91811978, 0.59860449, 0.59578776, 0.44804911, 0.95897813]],\n",
       "\n",
       "       [[0.32497209, 0.27646405, 0.04073177, 0.14299757, 0.50984197],\n",
       "        [0.87745198, 0.29357799, 0.67634134, 0.06905851, 0.27049128]]])"
      ]
     },
     "execution_count": 8,
     "metadata": {},
     "output_type": "execute_result"
    }
   ],
   "source": [
    "np.random.rand(3,2,5)"
   ]
  },
  {
   "cell_type": "code",
   "execution_count": 10,
   "metadata": {},
   "outputs": [
    {
     "data": {
      "text/plain": [
       "array([[[[0.56717545, 0.57627865, 0.38625668],\n",
       "         [0.07527986, 0.48713724, 0.50247922],\n",
       "         [0.71994194, 0.14523716, 0.91810413],\n",
       "         [0.59277285, 0.15289403, 0.87162717],\n",
       "         [0.46230524, 0.01033429, 0.44753333]],\n",
       "\n",
       "        [[0.93625748, 0.97001208, 0.92533603],\n",
       "         [0.88940639, 0.65300775, 0.13345808],\n",
       "         [0.20303196, 0.22654929, 0.29476053],\n",
       "         [0.38256564, 0.33547883, 0.96917422],\n",
       "         [0.90417997, 0.57881052, 0.23550062]],\n",
       "\n",
       "        [[0.75899322, 0.84670467, 0.91026839],\n",
       "         [0.29797509, 0.08797625, 0.0520733 ],\n",
       "         [0.16089388, 0.78849277, 0.34586747],\n",
       "         [0.78541387, 0.13224372, 0.97476138],\n",
       "         [0.65456947, 0.60311319, 0.17449833]],\n",
       "\n",
       "        [[0.90579161, 0.8847066 , 0.3171594 ],\n",
       "         [0.41263796, 0.94274117, 0.85907283],\n",
       "         [0.8137622 , 0.63821146, 0.39757155],\n",
       "         [0.38551424, 0.22457949, 0.60771146],\n",
       "         [0.14359492, 0.69960826, 0.08479228]],\n",
       "\n",
       "        [[0.61308853, 0.55220362, 0.64050423],\n",
       "         [0.56764122, 0.31860276, 0.3938099 ],\n",
       "         [0.16570218, 0.60759083, 0.57186358],\n",
       "         [0.07599262, 0.86144894, 0.23624928],\n",
       "         [0.64463905, 0.80737404, 0.43479446]],\n",
       "\n",
       "        [[0.29345258, 0.8391561 , 0.29484223],\n",
       "         [0.66053602, 0.82308971, 0.74405595],\n",
       "         [0.29579324, 0.6977134 , 0.86001176],\n",
       "         [0.2114412 , 0.13409274, 0.94511031],\n",
       "         [0.01558999, 0.66808593, 0.23214685]],\n",
       "\n",
       "        [[0.09287521, 0.68037396, 0.96421393],\n",
       "         [0.45991451, 0.13820082, 0.55695948],\n",
       "         [0.21244613, 0.17160024, 0.44905725],\n",
       "         [0.10329255, 0.15512928, 0.03003971],\n",
       "         [0.1688853 , 0.37006398, 0.61095529]],\n",
       "\n",
       "        [[0.44782377, 0.53199007, 0.87240174],\n",
       "         [0.83628714, 0.79836045, 0.2900068 ],\n",
       "         [0.25378336, 0.74018185, 0.11482785],\n",
       "         [0.03700758, 0.41747982, 0.32549989],\n",
       "         [0.9084826 , 0.3009949 , 0.55728083]]],\n",
       "\n",
       "\n",
       "       [[[0.26103444, 0.04504592, 0.31755128],\n",
       "         [0.66876731, 0.42232124, 0.65010654],\n",
       "         [0.88570484, 0.87054488, 0.95441832],\n",
       "         [0.71553803, 0.84200053, 0.50701631],\n",
       "         [0.14988535, 0.29086443, 0.47965487]],\n",
       "\n",
       "        [[0.53579778, 0.77192971, 0.96348014],\n",
       "         [0.53913346, 0.73428987, 0.47621879],\n",
       "         [0.66844435, 0.123745  , 0.38326911],\n",
       "         [0.00437005, 0.77767905, 0.45295953],\n",
       "         [0.95246914, 0.30487787, 0.76057993]],\n",
       "\n",
       "        [[0.47788349, 0.17397305, 0.11748685],\n",
       "         [0.86075159, 0.07803979, 0.6581966 ],\n",
       "         [0.34731843, 0.49191334, 0.85010548],\n",
       "         [0.27379642, 0.64763688, 0.95576096],\n",
       "         [0.85814667, 0.59214138, 0.24471774]],\n",
       "\n",
       "        [[0.31753801, 0.04319634, 0.1319388 ],\n",
       "         [0.6529406 , 0.58748334, 0.71548959],\n",
       "         [0.20665164, 0.46211859, 0.42993081],\n",
       "         [0.77781304, 0.06195376, 0.0774217 ],\n",
       "         [0.74547719, 0.15227185, 0.82375935]],\n",
       "\n",
       "        [[0.69364557, 0.8989514 , 0.8214777 ],\n",
       "         [0.42325856, 0.3558643 , 0.33168351],\n",
       "         [0.60775559, 0.93940421, 0.60968508],\n",
       "         [0.83528654, 0.9104319 , 0.37322206],\n",
       "         [0.21871906, 0.49065555, 0.56943253]],\n",
       "\n",
       "        [[0.7841132 , 0.53556001, 0.24291708],\n",
       "         [0.03493687, 0.6227682 , 0.96726687],\n",
       "         [0.98078991, 0.57720189, 0.22923743],\n",
       "         [0.04514748, 0.09981799, 0.49092578],\n",
       "         [0.49004235, 0.07362434, 0.30369294]],\n",
       "\n",
       "        [[0.17303081, 0.14303856, 0.52719161],\n",
       "         [0.30882331, 0.80360694, 0.24280348],\n",
       "         [0.44716675, 0.44835367, 0.1097529 ],\n",
       "         [0.24481021, 0.34973922, 0.36671805],\n",
       "         [0.99474785, 0.78167985, 0.93033056]],\n",
       "\n",
       "        [[0.74430495, 0.57777955, 0.90656342],\n",
       "         [0.15331573, 0.46134534, 0.54280579],\n",
       "         [0.02703154, 0.46271423, 0.99058325],\n",
       "         [0.19811771, 0.63178575, 0.92607638],\n",
       "         [0.33508224, 0.56538163, 0.44737977]]],\n",
       "\n",
       "\n",
       "       [[[0.26170536, 0.20752193, 0.68865978],\n",
       "         [0.77402995, 0.22671489, 0.42991873],\n",
       "         [0.47638041, 0.02656822, 0.65046991],\n",
       "         [0.70945641, 0.39396529, 0.0869492 ],\n",
       "         [0.94514855, 0.11415726, 0.07396584]],\n",
       "\n",
       "        [[0.62654609, 0.59017369, 0.33983727],\n",
       "         [0.2515564 , 0.41123054, 0.42493634],\n",
       "         [0.37388443, 0.19251617, 0.88406705],\n",
       "         [0.06797896, 0.95642291, 0.87690918],\n",
       "         [0.98331117, 0.04016836, 0.30577181]],\n",
       "\n",
       "        [[0.52572531, 0.80263062, 0.62154346],\n",
       "         [0.58794509, 0.26847938, 0.13351852],\n",
       "         [0.98217384, 0.10807522, 0.96041125],\n",
       "         [0.91483844, 0.70786662, 0.85909716],\n",
       "         [0.27196665, 0.02331919, 0.55684192]],\n",
       "\n",
       "        [[0.65525258, 0.5138128 , 0.00484632],\n",
       "         [0.69785473, 0.17398033, 0.99440695],\n",
       "         [0.39650851, 0.39337556, 0.62312302],\n",
       "         [0.67119411, 0.14796408, 0.76251568],\n",
       "         [0.08839083, 0.20634839, 0.87810979]],\n",
       "\n",
       "        [[0.67708759, 0.56199161, 0.95413731],\n",
       "         [0.33314533, 0.65453184, 0.68643457],\n",
       "         [0.51326832, 0.70811453, 0.09487175],\n",
       "         [0.1582631 , 0.6136712 , 0.81092247],\n",
       "         [0.05341454, 0.12368204, 0.87123301]],\n",
       "\n",
       "        [[0.87947061, 0.79119123, 0.29047843],\n",
       "         [0.44100484, 0.66539476, 0.70047881],\n",
       "         [0.92004923, 0.75595421, 0.57692755],\n",
       "         [0.94139288, 0.40698841, 0.13136065],\n",
       "         [0.87376042, 0.63728572, 0.62757132]],\n",
       "\n",
       "        [[0.0928891 , 0.82863622, 0.01916576],\n",
       "         [0.29137654, 0.7511488 , 0.59019643],\n",
       "         [0.15550828, 0.03145021, 0.10965873],\n",
       "         [0.42601428, 0.06247123, 0.09173263],\n",
       "         [0.526589  , 0.83468797, 0.04188641]],\n",
       "\n",
       "        [[0.98965166, 0.46749165, 0.44826125],\n",
       "         [0.32039253, 0.84586365, 0.07193909],\n",
       "         [0.75599013, 0.33879415, 0.31891858],\n",
       "         [0.90111176, 0.60564093, 0.28327165],\n",
       "         [0.16929001, 0.83645959, 0.522734  ]]],\n",
       "\n",
       "\n",
       "       [[[0.39467405, 0.27486345, 0.94056872],\n",
       "         [0.75875245, 0.50436427, 0.88798832],\n",
       "         [0.17534779, 0.33241415, 0.5300173 ],\n",
       "         [0.27745176, 0.83247332, 0.24905005],\n",
       "         [0.28022364, 0.65989162, 0.76320891]],\n",
       "\n",
       "        [[0.52664172, 0.95228494, 0.80721174],\n",
       "         [0.73996627, 0.33759545, 0.90171693],\n",
       "         [0.63989809, 0.80132974, 0.09184645],\n",
       "         [0.41013656, 0.14035912, 0.46673955],\n",
       "         [0.55298131, 0.01437495, 0.99577941]],\n",
       "\n",
       "        [[0.57944845, 0.54459538, 0.28777517],\n",
       "         [0.95209811, 0.45200615, 0.52160745],\n",
       "         [0.74586019, 0.36642846, 0.99387487],\n",
       "         [0.16533204, 0.95672449, 0.02678314],\n",
       "         [0.00804044, 0.33815923, 0.17328545]],\n",
       "\n",
       "        [[0.5718221 , 0.96661032, 0.94308147],\n",
       "         [0.7316654 , 0.80018086, 0.75163218],\n",
       "         [0.10937304, 0.71880323, 0.87841854],\n",
       "         [0.19054998, 0.04478331, 0.41076466],\n",
       "         [0.45557127, 0.82229306, 0.76004338]],\n",
       "\n",
       "        [[0.29788883, 0.68255087, 0.72807477],\n",
       "         [0.07338583, 0.35270852, 0.40943822],\n",
       "         [0.44060022, 0.45529735, 0.98017432],\n",
       "         [0.01958374, 0.11878033, 0.10288691],\n",
       "         [0.01563326, 0.80537285, 0.469131  ]],\n",
       "\n",
       "        [[0.40787255, 0.21707978, 0.38947554],\n",
       "         [0.57378284, 0.4052367 , 0.59195066],\n",
       "         [0.20430609, 0.22973197, 0.53507247],\n",
       "         [0.25576243, 0.44984527, 0.83725968],\n",
       "         [0.1920586 , 0.70537801, 0.46143312]],\n",
       "\n",
       "        [[0.97009602, 0.83813261, 0.09439414],\n",
       "         [0.37855458, 0.76377164, 0.73067418],\n",
       "         [0.42477997, 0.53119146, 0.67870612],\n",
       "         [0.57595012, 0.54230479, 0.44909285],\n",
       "         [0.18023505, 0.24848534, 0.63824538]],\n",
       "\n",
       "        [[0.87180926, 0.43758541, 0.62311972],\n",
       "         [0.87391163, 0.71711435, 0.00144644],\n",
       "         [0.53821147, 0.6130979 , 0.04382275],\n",
       "         [0.95141413, 0.45535738, 0.368757  ],\n",
       "         [0.04978118, 0.1122423 , 0.54680395]]],\n",
       "\n",
       "\n",
       "       [[[0.62043028, 0.93707525, 0.88461967],\n",
       "         [0.28897463, 0.18346086, 0.87189652],\n",
       "         [0.81929998, 0.75407462, 0.10212487],\n",
       "         [0.25755372, 0.37299084, 0.53898105],\n",
       "         [0.51442453, 0.2761369 , 0.91603469]],\n",
       "\n",
       "        [[0.35214954, 0.56311317, 0.1614978 ],\n",
       "         [0.31383537, 0.73381601, 0.76480226],\n",
       "         [0.02282592, 0.93841854, 0.35582374],\n",
       "         [0.06301809, 0.59858481, 0.41509453],\n",
       "         [0.25972436, 0.53641276, 0.08003161]],\n",
       "\n",
       "        [[0.90468094, 0.20490353, 0.57645838],\n",
       "         [0.58557136, 0.43646146, 0.05148659],\n",
       "         [0.84196326, 0.50388015, 0.91730386],\n",
       "         [0.49619374, 0.91565905, 0.05681837],\n",
       "         [0.10788956, 0.50823216, 0.50100364]],\n",
       "\n",
       "        [[0.70052132, 0.67707514, 0.4362297 ],\n",
       "         [0.77673371, 0.57307555, 0.09670992],\n",
       "         [0.55024816, 0.56645879, 0.97798687],\n",
       "         [0.26802739, 0.15759165, 0.91610743],\n",
       "         [0.68267136, 0.17303338, 0.97292801]],\n",
       "\n",
       "        [[0.66165239, 0.37944556, 0.0713176 ],\n",
       "         [0.52948736, 0.80433946, 0.76523236],\n",
       "         [0.37646984, 0.79351809, 0.05662923],\n",
       "         [0.47884616, 0.05729774, 0.51289772],\n",
       "         [0.12667471, 0.21777004, 0.41001388]],\n",
       "\n",
       "        [[0.24747537, 0.6423794 , 0.79237359],\n",
       "         [0.67543651, 0.05666066, 0.40637473],\n",
       "         [0.02336113, 0.14168918, 0.15083897],\n",
       "         [0.63548115, 0.78468735, 0.67558216],\n",
       "         [0.19610189, 0.2590282 , 0.68473277]],\n",
       "\n",
       "        [[0.06041839, 0.8853598 , 0.09505108],\n",
       "         [0.40563269, 0.14300763, 0.93416099],\n",
       "         [0.81785941, 0.73352346, 0.74080316],\n",
       "         [0.06246683, 0.29012163, 0.92982025],\n",
       "         [0.43506565, 0.14793711, 0.3886901 ]],\n",
       "\n",
       "        [[0.32169361, 0.79174746, 0.58491508],\n",
       "         [0.22050764, 0.42583644, 0.2418137 ],\n",
       "         [0.82670265, 0.05466462, 0.80116972],\n",
       "         [0.57222872, 0.52992774, 0.38886319],\n",
       "         [0.39648712, 0.45002945, 0.3098202 ]]],\n",
       "\n",
       "\n",
       "       [[[0.37311037, 0.98275772, 0.95711365],\n",
       "         [0.47497603, 0.48032648, 0.5060088 ],\n",
       "         [0.99417565, 0.80536004, 0.0886351 ],\n",
       "         [0.46682793, 0.50365009, 0.43842609],\n",
       "         [0.79219176, 0.05541841, 0.34191962]],\n",
       "\n",
       "        [[0.19581114, 0.0031352 , 0.89948639],\n",
       "         [0.58874486, 0.60379118, 0.789837  ],\n",
       "         [0.58327019, 0.47052915, 0.46545971],\n",
       "         [0.12174861, 0.00462054, 0.02218327],\n",
       "         [0.85266875, 0.46127038, 0.91703093]],\n",
       "\n",
       "        [[0.87300029, 0.64595383, 0.03502127],\n",
       "         [0.53047361, 0.74783573, 0.32089552],\n",
       "         [0.98810785, 0.34783767, 0.75094   ],\n",
       "         [0.88482457, 0.93718624, 0.90462601],\n",
       "         [0.56394446, 0.11359898, 0.08081435]],\n",
       "\n",
       "        [[0.23602965, 0.48784728, 0.13739919],\n",
       "         [0.68685712, 0.85047012, 0.9307901 ],\n",
       "         [0.43123627, 0.88524074, 0.43057557],\n",
       "         [0.61748284, 0.58129016, 0.95865012],\n",
       "         [0.54076353, 0.3479064 , 0.90067922]],\n",
       "\n",
       "        [[0.66709217, 0.60627269, 0.16332884],\n",
       "         [0.52025332, 0.88725164, 0.44182507],\n",
       "         [0.54604485, 0.15872586, 0.40697251],\n",
       "         [0.60978704, 0.73914026, 0.7289996 ],\n",
       "         [0.61725154, 0.63804559, 0.52013176]],\n",
       "\n",
       "        [[0.28934779, 0.25136856, 0.3899583 ],\n",
       "         [0.26641767, 0.44460068, 0.23840848],\n",
       "         [0.34484662, 0.44617393, 0.55250358],\n",
       "         [0.56120617, 0.19327278, 0.50909565],\n",
       "         [0.9212269 , 0.96797768, 0.94455061]],\n",
       "\n",
       "        [[0.92618212, 0.62561622, 0.66810063],\n",
       "         [0.87187984, 0.79289985, 0.4407351 ],\n",
       "         [0.61641856, 0.60334804, 0.57851163],\n",
       "         [0.44208882, 0.0918468 , 0.8787537 ],\n",
       "         [0.39931281, 0.41337661, 0.29031289]],\n",
       "\n",
       "        [[0.55927388, 0.94828789, 0.86100912],\n",
       "         [0.38402791, 0.4074853 , 0.25945378],\n",
       "         [0.47715633, 0.96878354, 0.51450856],\n",
       "         [0.92041717, 0.75265261, 0.99332993],\n",
       "         [0.52175875, 0.14316437, 0.76025671]]]])"
      ]
     },
     "execution_count": 10,
     "metadata": {},
     "output_type": "execute_result"
    }
   ],
   "source": [
    "np.random.rand(6,8,5,3)"
   ]
  },
  {
   "cell_type": "code",
   "execution_count": 11,
   "metadata": {},
   "outputs": [
    {
     "data": {
      "text/plain": [
       "0.7846516390853429"
      ]
     },
     "execution_count": 11,
     "metadata": {},
     "output_type": "execute_result"
    }
   ],
   "source": [
    "np.random.rand()"
   ]
  },
  {
   "cell_type": "markdown",
   "metadata": {},
   "source": [
    "## Displaying the random function"
   ]
  },
  {
   "cell_type": "code",
   "execution_count": 15,
   "metadata": {},
   "outputs": [],
   "source": [
    "import matplotlib.pyplot as plt"
   ]
  },
  {
   "cell_type": "code",
   "execution_count": 16,
   "metadata": {},
   "outputs": [],
   "source": [
    "x = np.random.rand(10000)"
   ]
  },
  {
   "cell_type": "code",
   "execution_count": 17,
   "metadata": {},
   "outputs": [
    {
     "data": {
      "text/plain": [
       "(array([1014., 1037., 1006.,  988.,  989.,  994., 1013.,  985.,  995.,\n",
       "         979.]),\n",
       " array([5.21806071e-05, 1.00037185e-01, 2.00022188e-01, 3.00007192e-01,\n",
       "        3.99992196e-01, 4.99977200e-01, 5.99962204e-01, 6.99947208e-01,\n",
       "        7.99932212e-01, 8.99917216e-01, 9.99902220e-01]),\n",
       " <a list of 10 Patch objects>)"
      ]
     },
     "execution_count": 17,
     "metadata": {},
     "output_type": "execute_result"
    },
    {
     "data": {
      "image/png": "[encoded data removed]",
      "text/plain": [
       "<Figure size 432x288 with 1 Axes>"
      ]
     },
     "metadata": {
      "needs_background": "light"
     },
     "output_type": "display_data"
    }
   ],
   "source": [
    "plt.hist(x)"
   ]
  },
  {
   "cell_type": "code",
   "execution_count": 18,
   "metadata": {},
   "outputs": [
    {
     "data": {
      "image/png": "[encoded data removed]",
      "text/plain": [
       "<Figure size 432x288 with 1 Axes>"
      ]
     },
     "metadata": {
      "needs_background": "light"
     },
     "output_type": "display_data"
    }
   ],
   "source": [
    "plt.hist(x)\n",
    "plt.show()"
   ]
  },
  {
   "cell_type": "code",
   "execution_count": null,
   "metadata": {},
   "outputs": [],
   "source": []
  }
 ],
 "metadata": {
  "kernelspec": {
   "display_name": "Python 3",
   "language": "python",
   "name": "python3"
  },
  "language_info": {
   "codemirror_mode": {
    "name": "ipython",
    "version": 3
   },
   "file_extension": ".py",
   "mimetype": "text/x-python",
   "name": "python",
   "nbconvert_exporter": "python",
   "pygments_lexer": "ipython3",
   "version": "3.7.6"
  }
 },
 "nbformat": 4,
 "nbformat_minor": 4
}
